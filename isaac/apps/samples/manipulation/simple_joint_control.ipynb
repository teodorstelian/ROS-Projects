{
 "cells": [
  {
   "cell_type": "code",
   "execution_count": null,
   "metadata": {},
   "outputs": [],
   "source": [
    "import os\n",
    "# set the current working directory to the deployed package folder. This is required by isaac.\n",
    "# This cell should only run once.\n",
    "os.chdir(\"../../../\")\n",
    "os.getcwd()"
   ]
  },
  {
   "cell_type": "code",
   "execution_count": null,
   "metadata": {},
   "outputs": [],
   "source": [
    "from IPython.display import display\n",
    "import json\n",
    "import numpy as np\n",
    "import time\n",
    "import threading\n",
    "\n",
    "from engine.pyalice import Application, Codelet\n",
    "from engine.pyalice.gui.composite_widget import CompositeWidget\n",
    "\n",
    "np.set_printoptions(precision=3)"
   ]
  },
  {
   "cell_type": "code",
   "execution_count": null,
   "metadata": {},
   "outputs": [],
   "source": [
    "# A Python codelet for joint control through widget\n",
    "class JointPositionControl(Codelet):\n",
    "    def start(self):\n",
    "        self.rx = self.isaac_proto_rx(\"CompositeProto\", \"state\")\n",
    "        self.tx = self.isaac_proto_tx(\"CompositeProto\", \"command\")\n",
    "\n",
    "        joints = self.config.joints\n",
    "        limits = self.config.limits\n",
    "        self._widget = CompositeWidget(joints, \"position\", limits)\n",
    "        if self._widget is None:\n",
    "            report_failure(\"Cannot create valid widget\")\n",
    "            return\n",
    "        display(self._widget.panel)\n",
    "\n",
    "        self.tick_periodically(0.1)\n",
    "\n",
    "    def tick(self):\n",
    "        state_msg = self.rx.message\n",
    "        if state_msg is None:\n",
    "            return\n",
    "        self._widget.composite = state_msg\n",
    "\n",
    "        self.tx._msg = self._widget.composite\n",
    "        if self.tx._msg is not None:\n",
    "            self.tx.publish()"
   ]
  },
  {
   "cell_type": "markdown",
   "metadata": {},
   "source": [
    "UR10 in Omniverse Isaac Sim\n",
    "======\n",
    "\n",
    "Open the ur10_playground stage in Kit, start Robot Engine Bridge and hit Play before continuing"
   ]
  },
  {
   "cell_type": "code",
   "execution_count": null,
   "metadata": {},
   "outputs": [],
   "source": [
    "# set kinematic file and get list of joints\n",
    "kinematic_file = \"apps/assets/kinematic_trees/ur10.kinematic.json\"\n",
    "joints = []\n",
    "with open(kinematic_file,'r') as fd:\n",
    "    kt = json.load(fd)\n",
    "    for link in kt['links']:\n",
    "        if 'motor' in link and link['motor']['type'] != 'constant':\n",
    "            joints.append(link['name'])\n",
    "print(joints)"
   ]
  },
  {
   "cell_type": "code",
   "execution_count": null,
   "metadata": {},
   "outputs": [],
   "source": [
    "app = Application(name=\"simple_joint_control_ur10_sim\")\n",
    "\n",
    "# load subgraphcs\n",
    "app.load(filename=\"packages/planner/apps/multi_joint_lqr_control.subgraph.json\", prefix=\"lqr\")\n",
    "app.load(filename=\"packages/navsim/apps/navsim_tcp.subgraph.json\", prefix=\"simulation\")\n",
    "# edges\n",
    "simulation_node = app.nodes[\"simulation.interface\"]\n",
    "lqr_interface = app.nodes[\"lqr.subgraph\"][\"interface\"]\n",
    "app.connect(simulation_node[\"output\"], \"joint_state\", lqr_interface, \"joint_state\")\n",
    "app.connect(lqr_interface, \"joint_command\", simulation_node[\"input\"], \"joint_position\")\n",
    "# configs\n",
    "app.nodes[\"lqr.kinematic_tree\"][\"KinematicTree\"].config.kinematic_file = kinematic_file\n",
    "lqr_planner = app.nodes[\"lqr.local_plan\"][\"MultiJointLqrPlanner\"]\n",
    "lqr_planner.config.speed_min = [-1.0] * len(joints)\n",
    "lqr_planner.config.speed_max = [1.0] * len(joints)\n",
    "lqr_planner.config.acceleration_min = [-1.0] * len(joints)\n",
    "lqr_planner.config.acceleration_max = [1.0] * len(joints)\n",
    "\n",
    "# add pycodelet JointPositionControl\n",
    "widget_node = app.add(\"command_generator\")\n",
    "joint_commander = widget_node.add(JointPositionControl)\n",
    "joint_commander.config.joints = joints\n",
    "joint_commander.config.limits = [[-2*np.pi, 2*np.pi]] * len(joints)\n",
    "app.connect(joint_commander, \"command\", lqr_interface, \"joint_target\")\n",
    "app.connect(simulation_node[\"output\"], \"joint_state\", joint_commander, \"state\")\n",
    "                            \n",
    "app.start()"
   ]
  },
  {
   "cell_type": "code",
   "execution_count": null,
   "metadata": {},
   "outputs": [],
   "source": [
    "# stop Isaac app\n",
    "app.stop()"
   ]
  },
  {
   "cell_type": "markdown",
   "metadata": {},
   "source": [
    "Kinova Jaco (gen2, 7 joints) Hardware\n",
    "======\n",
    "\n",
    "Install the KinoveJaco SDK in /opt/JACO2SDK (tested with v1.4.2) and connect to workstation via USB. Make sure the USB port has write permission"
   ]
  },
  {
   "cell_type": "code",
   "execution_count": null,
   "metadata": {},
   "outputs": [],
   "source": [
    "kinematic_file = \"apps/assets/kinematic_trees/kinova_j2n7.kinematic.json\"\n",
    "joints = []\n",
    "with open(kinematic_file,'r') as fd:\n",
    "    kt = json.load(fd)\n",
    "    for link in kt['links']:\n",
    "        if 'motor' in link and link['motor']['type'] != 'constant':\n",
    "            joints.append(link['name'])\n",
    "print(joints)"
   ]
  },
  {
   "cell_type": "code",
   "execution_count": null,
   "metadata": {},
   "outputs": [],
   "source": [
    "app = Application(name=\"simple_joint_control_kinova_real\")\n",
    "\n",
    "# load lqr subgraphcs\n",
    "app.load(filename=\"packages/planner/apps/multi_joint_lqr_control.subgraph.json\", prefix=\"lqr\")\n",
    "lqr_interface = app.nodes[\"lqr.subgraph\"][\"interface\"]\n",
    "# add kinova driver codelet\n",
    "app.load_module(\"kinova_jaco\")\n",
    "driver = app.add(\"driver\").add(app.registry.isaac.kinova_jaco.KinovaJaco)\n",
    "# edges\n",
    "app.connect(driver, \"arm_state\", lqr_interface, \"joint_state\")\n",
    "app.connect(lqr_interface, \"joint_command\", driver, \"arm_command\")\n",
    "# configs\n",
    "app.nodes[\"lqr.kinematic_tree\"][\"KinematicTree\"].config.kinematic_file = kinematic_file\n",
    "lqr_planner = app.nodes[\"lqr.local_plan\"][\"MultiJointLqrPlanner\"]\n",
    "lqr_planner.config.speed_min = [-0.5] * len(joints)\n",
    "lqr_planner.config.speed_max = [0.5] * len(joints)\n",
    "lqr_planner.config.acceleration_min = [-0.5] * len(joints)\n",
    "lqr_planner.config.acceleration_max = [0.5] * len(joints)\n",
    "driver.config.kinematic_tree = \"lqr.kinematic_tree\"\n",
    "driver.config.kinova_jaco_sdk_path = \"/opt/JACO2SDK/API/\"\n",
    "driver.config.tick_period = \"50ms\"\n",
    "\n",
    "# add pycodelet JointPositionControl\n",
    "widget_node = app.add(\"command_generator\")\n",
    "joint_commander = widget_node.add(JointPositionControl)\n",
    "joint_commander.config.joints = joints\n",
    "joint_commander.config.limits = [[-2*np.pi, 2*np.pi]] * len(joints)\n",
    "app.connect(joint_commander, \"command\", lqr_interface, \"joint_target\")\n",
    "app.connect(driver, \"arm_state\", joint_commander, \"state\")\n",
    "                            \n",
    "app.start()"
   ]
  },
  {
   "cell_type": "code",
   "execution_count": null,
   "metadata": {},
   "outputs": [],
   "source": [
    "app.stop()"
   ]
  },
  {
   "cell_type": "code",
   "execution_count": null,
   "metadata": {},
   "outputs": [],
   "source": []
  }
 ],
 "metadata": {
  "kernelspec": {
   "display_name": "Python 3",
   "language": "python",
   "name": "python3"
  },
  "language_info": {
   "codemirror_mode": {
    "name": "ipython",
    "version": 3
   },
   "file_extension": ".py",
   "mimetype": "text/x-python",
   "name": "python",
   "nbconvert_exporter": "python",
   "pygments_lexer": "ipython3",
   "version": "3.6.9"
  }
 },
 "nbformat": 4,
 "nbformat_minor": 2
}
